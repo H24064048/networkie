{
 "cells": [
  {
   "cell_type": "code",
   "execution_count": 2,
   "metadata": {},
   "outputs": [
    {
     "data": {
      "image/png": "[encoded data removed]",
      "text/plain": [
       "<matplotlib.figure.Figure at 0x21f9abda160>"
      ]
     },
     "metadata": {},
     "output_type": "display_data"
    }
   ],
   "source": [
    "import networkx as nx\n",
    "import pandas as pd\n",
    "import matplotlib.pyplot as plt\n",
    "\n",
    "\n",
    "\n",
    "class LoadFromFile(object):\n",
    "    def __init__(self):\n",
    "        '''\n",
    "        Initiate variables for the class.\n",
    "        '''\n",
    "        self.g = nx.Graph()\n",
    "\n",
    "        pass\n",
    "\n",
    "    def from_edgelist(self, path):\n",
    "        '''\n",
    "        Read graph in edgelist txt format from `path`.\n",
    "\n",
    "        Parameters\n",
    "        ----------\n",
    "        path: `str`\n",
    "            The path to the edgelist text file. Note that the node index must start from 0.\n",
    "\n",
    "        Returns\n",
    "        -------\n",
    "        G: `NetworkX graph`\n",
    "            The parsed graph.\n",
    "\n",
    "        '''\n",
    "\n",
    "        edgelist = []\n",
    "        with open(path, 'r') as f:\n",
    "            for line in f:\n",
    "                node_pair = line.replace('\\n', '').split(' ')\n",
    "                edgelist += [node_pair]\n",
    "        self.g.add_edges_from(edgelist)\n",
    "        print(nx.info(self.g))\n",
    "        print('Edgelist txt data successfully loaded into a networkx Graph!')\n",
    "        return self.g\n",
    "\n",
    "    def from_in_class_network(self):  # This is Prob. 3-a.\n",
    "        '''\n",
    "        Write your code documentation here.  # This is Prob. 4-a.\n",
    "        '''\n",
    "        df = pd.read_csv(\"In-class network.txt\",delimiter='\\t')\n",
    "        dic = df.set_index('ID')['IDs-of-acquaintances'].to_dict()\n",
    "        for i,j in dic.items():   #dic index + 對應內容   i -> key  j -> info\n",
    "        \tdic[i] = j.split(',')\n",
    "        for i,j in dic.items():   #dic index + 對應內容   i -> key  j -> info\n",
    "        \tl=[]\n",
    "        \tfor k in j:\n",
    "        \t\tif k != ' ':\n",
    "        \t\t\tl.append(int(k))\n",
    "        \tdic[i]=l\n",
    "        for k,v in dic.items():\n",
    "        \tfor z in v:\n",
    "        \t\tself.g.add_edge(k,z)\n",
    "        return self.g\n",
    "\n",
    "Gra =nx.Graph()\n",
    "Gra = LoadFromFile().from_in_class_network()\n",
    "nx.draw(Gra)\n",
    "plt.show()\n"
   ]
  },
  {
   "cell_type": "code",
   "execution_count": null,
   "metadata": {},
   "outputs": [],
   "source": []
  }
 ],
 "metadata": {
  "kernelspec": {
   "display_name": "Python 3",
   "language": "python",
   "name": "python3"
  },
  "language_info": {
   "codemirror_mode": {
    "name": "ipython",
    "version": 3
   },
   "file_extension": ".py",
   "mimetype": "text/x-python",
   "name": "python",
   "nbconvert_exporter": "python",
   "pygments_lexer": "ipython3",
   "version": "3.6.4"
  }
 },
 "nbformat": 4,
 "nbformat_minor": 2
}
